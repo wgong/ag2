{
 "cells": [
  {
   "attachments": {},
   "cell_type": "markdown",
   "metadata": {},
   "source": [
    "# Auto Generated Agent Chat: Teaching AI New Skills via Natural Language Interaction\n",
    "\n",
    "TODO: Implement advanced teachability based on this example.\n",
    "\n",
    "AG2 offers conversable agents powered by LLMs, tools, or humans, which can be used to perform tasks collectively via automated chat. This framework makes it easy to build many advanced applications of LLMs.\n",
    "Please find documentation about this feature [here](https://docs.ag2.ai/docs/Use-Cases/agent_chat).\n",
    "\n",
    "This notebook demonstrates how AG2 enables a user to teach AI new skills via natural agent interactions, without requiring knowledge of programming language. It is modified based on https://github.com/microsoft/FLAML/blob/evaluation/evaluation/research_paper/teaching.ipynb and https://github.com/microsoft/FLAML/blob/evaluation/evaluation/research_paper/teaching_recipe_reuse.ipynb.\n",
    "\n",
    "## Requirements\n",
    "\n",
    "````{=mdx}\n",
    ":::info Requirements\n",
    "Install `autogen`:\n",
    "```bash\n",
    "pip install autogen[openai]\n",
    "```\n",
    "\n",
    "For more information, please refer to the [installation guide](/docs/user-guide/basic-concepts/installing-ag2).\n",
    ":::\n",
    "````\n"
   ]
  },
  {
   "cell_type": "code",
   "execution_count": null,
   "metadata": {},
   "outputs": [],
   "source": [
    "import autogen\n",
    "\n",
    "llm_config = {\n",
    "    \"timeout\": 600,\n",
    "    \"cache_seed\": 44,  # change the seed for different trials\n",
    "    \"config_list\": autogen.config_list_from_json(\n",
    "        \"OAI_CONFIG_LIST\",\n",
    "        filter_dict={\"model\": [\"gpt-4-32k\"]},\n",
    "    ),\n",
    "    \"temperature\": 0,\n",
    "}"
   ]
  },
  {
   "attachments": {},
   "cell_type": "markdown",
   "metadata": {},
   "source": [
    "````{=mdx}\n",
    ":::tip\n",
    "Learn more about configuring LLMs for agents [here](/docs/topics/llm_configuration).\n",
    ":::\n",
    "````\n",
    "\n",
    "## Example Task: Literature Survey\n",
    "\n",
    "We consider a scenario where one needs to find research papers of a certain topic, categorize the application domains, and plot a bar chart of the number of papers in each domain."
   ]
  },
  {
   "attachments": {},
   "cell_type": "markdown",
   "metadata": {},
   "source": [
    "### Construct Agents\n",
    "\n",
    "We create an assistant agent to solve tasks with coding and language skills. We create a user proxy agent to describe tasks and execute the code suggested by the assistant agent."
   ]
  },
  {
   "cell_type": "code",
   "execution_count": null,
   "metadata": {},
   "outputs": [],
   "source": [
    "# create an AssistantAgent instance named \"assistant\"\n",
    "assistant = autogen.AssistantAgent(\n",
    "    name=\"assistant\",\n",
    "    llm_config=llm_config,\n",
    "    is_termination_msg=lambda x: \"TERMINATE\" in x.get(\"content\"),\n",
    ")\n",
    "# create a UserProxyAgent instance named \"user_proxy\"\n",
    "user_proxy = autogen.UserProxyAgent(\n",
    "    name=\"user_proxy\",\n",
    "    human_input_mode=\"NEVER\",\n",
    "    is_termination_msg=lambda x: \"TERMINATE\" in x.get(\"content\"),\n",
    "    max_consecutive_auto_reply=10,\n",
    "    code_execution_config={\n",
    "        \"work_dir\": \"work_dir\",\n",
    "        \"use_docker\": False,\n",
    "    },\n",
    ")"
   ]
  },
  {
   "attachments": {},
   "cell_type": "markdown",
   "metadata": {},
   "source": [
    "### Step-by-step Requests"
   ]
  },
  {
   "cell_type": "code",
   "execution_count": null,
   "metadata": {},
   "outputs": [],
   "source": [
    "task1 = \"\"\"\n",
    "Find arxiv papers that show how are people studying trust calibration in AI based systems\n",
    "\"\"\"\n",
    "\n",
    "user_proxy.initiate_chat(assistant, message=task1)"
   ]
  },
  {
   "cell_type": "code",
   "execution_count": null,
   "metadata": {},
   "outputs": [],
   "source": [
    "task2 = \"analyze the above the results to list the application domains studied by these papers \"\n",
    "user_proxy.initiate_chat(assistant, message=task2, clear_history=False)"
   ]
  },
  {
   "cell_type": "code",
   "execution_count": null,
   "metadata": {},
   "outputs": [],
   "source": [
    "task3 = \"\"\"Use this data to generate a bar chart of domains and number of papers in that domain and save to a file\n",
    "\"\"\"\n",
    "user_proxy.initiate_chat(assistant, message=task3, clear_history=False)"
   ]
  },
  {
   "cell_type": "code",
   "execution_count": null,
   "metadata": {},
   "outputs": [],
   "source": [
    "# from IPython.display import Image\n",
    "\n",
    "# Image(filename='work_dir/domains_bar_chart.png')"
   ]
  },
  {
   "attachments": {},
   "cell_type": "markdown",
   "metadata": {},
   "source": [
    "## Create Recipes\n",
    "\n",
    "Now that the task has finished via a number of interactions. The user does not want to repeat these many steps in future. What can the user do?\n",
    "\n",
    "A followup request can be made to create a reusable recipe."
   ]
  },
  {
   "cell_type": "code",
   "execution_count": null,
   "metadata": {},
   "outputs": [],
   "source": [
    "task4 = \"\"\"Reflect on the sequence and create a recipe containing all the steps\n",
    "necessary and name for it. Suggest well-documented, generalized python function(s)\n",
    " to perform similar tasks for coding steps in future. Make sure coding steps and\n",
    " non-coding steps are never mixed in one function. In the docstr of the function(s),\n",
    " clarify what non-coding steps are needed to use the language skill of the assistant.\n",
    "\"\"\"\n",
    "user_proxy.initiate_chat(assistant, message=task4, clear_history=False)"
   ]
  },
  {
   "attachments": {},
   "cell_type": "markdown",
   "metadata": {},
   "source": [
    "## Reuse Recipes\n",
    "\n",
    "The user can apply the same recipe to similar tasks in future.\n",
    "\n",
    "### Example Application"
   ]
  },
  {
   "cell_type": "code",
   "execution_count": null,
   "metadata": {},
   "outputs": [],
   "source": [
    "# create an AssistantAgent instance named \"assistant\"\n",
    "assistant = autogen.AssistantAgent(\n",
    "    name=\"assistant\",\n",
    "    llm_config=llm_config,\n",
    "    is_termination_msg=lambda x: \"TERMINATE\" in x.get(\"content\"),\n",
    ")\n",
    "# create a UserProxyAgent instance named \"user_proxy\"\n",
    "user_proxy = autogen.UserProxyAgent(\n",
    "    name=\"user_proxy\",\n",
    "    human_input_mode=\"NEVER\",\n",
    "    is_termination_msg=lambda x: \"TERMINATE\" in x.get(\"content\"),\n",
    "    max_consecutive_auto_reply=10,\n",
    "    code_execution_config={\n",
    "        \"work_dir\": \"work_dir\",\n",
    "        \"use_docker\": False,\n",
    "    },\n",
    ")\n",
    "\n",
    "task1 = '''\n",
    "This recipe is available for you to reuse..\n",
    "\n",
    "<begin recipe>\n",
    "**Recipe Name:** Analyzing and Visualizing Application Domains in Arxiv Papers\n",
    "\n",
    "**Steps:**\n",
    "\n",
    "1. Collect relevant papers from arxiv using a search query.\n",
    "2. Analyze the abstracts of the collected papers to identify application domains.\n",
    "3. Count the number of papers in each application domain.\n",
    "4. Generate a bar chart of the application domains and the number of papers in each domain.\n",
    "5. Save the bar chart as an image file.\n",
    "\n",
    "Here are the well-documented, generalized Python functions to perform the coding steps in the future:\n",
    "\n",
    "```python\n",
    "import requests\n",
    "import feedparser\n",
    "import matplotlib.pyplot as plt\n",
    "from typing import List, Dict\n",
    "\n",
    "def search_arxiv(query: str, max_results: int = 10) -> List[Dict[str, str]]:\n",
    "    \"\"\"\n",
    "    Search arxiv for papers related to a specific query.\n",
    "\n",
    "    :param query: The search query for arxiv papers.\n",
    "    :param max_results: The maximum number of results to return. Default is 10.\n",
    "    :return: A list of dictionaries containing the title, link, and summary of each paper.\n",
    "    \"\"\"\n",
    "    base_url = \"http://export.arxiv.org/api/query?\"\n",
    "    search_query = f\"search_query=all:{query}\"\n",
    "    start = 0\n",
    "    max_results = f\"max_results={max_results}\"\n",
    "    url = f\"{base_url}{search_query}&start={start}&{max_results}\"\n",
    "    response = requests.get(url)\n",
    "    feed = feedparser.parse(response.content)\n",
    "\n",
    "    papers = [{\"title\": entry.title, \"link\": entry.link, \"summary\": entry.summary} for entry in feed.entries]\n",
    "    return papers\n",
    "\n",
    "def generate_bar_chart(domains: Dict[str, int], output_file: str) -> None:\n",
    "    \"\"\"\n",
    "    Generate a bar chart of application domains and the number of papers in each domain, and save it as an image file.\n",
    "\n",
    "    :param domains: A dictionary containing application domains as keys and the number of papers as values.\n",
    "    :param output_file: The name of the output image file.\n",
    "    \"\"\"\n",
    "    fig, ax = plt.subplots()\n",
    "    ax.bar(domains.keys(), domains.values())\n",
    "    plt.xticks(rotation=45, ha=\"right\")\n",
    "    plt.xlabel(\"Application Domains\")\n",
    "    plt.ylabel(\"Number of Papers\")\n",
    "    plt.title(\"Number of Papers per Application Domain\")\n",
    "\n",
    "    plt.tight_layout()\n",
    "    plt.savefig(output_file)\n",
    "    plt.show()\n",
    "```\n",
    "\n",
    "**Usage:**\n",
    "\n",
    "1. Use the `search_arxiv` function to collect relevant papers from arxiv using a search query.\n",
    "2. Analyze the abstracts of the collected papers using your language skills to identify application domains and count the number of papers in each domain.\n",
    "3. Use the `generate_bar_chart` function to generate a bar chart of the application domains and the number of papers in each domain, and save it as an image file.\n",
    "\n",
    "</end recipe>\n",
    "\n",
    "\n",
    "Here is a new task:\n",
    "Plot a chart for application domains of GPT models\n",
    "'''\n",
    "\n",
    "user_proxy.initiate_chat(assistant, message=task1)"
   ]
  }
 ],
 "metadata": {
  "front_matter": {
   "description": "Teach the agent news skills using natural language.",
   "tags": [
    "learning",
    "teaching"
   ]
  },
  "kernelspec": {
   "display_name": "flaml-eval",
   "language": "python",
   "name": "python3"
  },
  "language_info": {
   "codemirror_mode": {
    "name": "ipython",
    "version": 3
   },
   "file_extension": ".py",
   "mimetype": "text/x-python",
   "name": "python",
   "nbconvert_exporter": "python",
   "pygments_lexer": "ipython3",
   "version": "3.9.17"
  }
 },
 "nbformat": 4,
 "nbformat_minor": 2
}
