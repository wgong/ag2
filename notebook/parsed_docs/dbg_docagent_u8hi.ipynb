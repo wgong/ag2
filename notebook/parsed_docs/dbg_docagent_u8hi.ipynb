{
 "cells": [
  {
   "cell_type": "code",
   "execution_count": 7,
   "id": "7f711541-1871-4b48-9abb-f8a214eb90ec",
   "metadata": {},
   "outputs": [],
   "source": [
    "import os\n",
    "\n",
    "import autogen\n",
    "from autogen import AfterWorkOption, ConversableAgent, initiate_swarm_chat\n",
    "from autogen.agents.experimental import DocAgent\n",
    "\n",
    "from pathlib import Path\n",
    "from typing import Optional, Union\n",
    "\n",
    "from autogen import config_list_from_json\n",
    "from autogen.agents.experimental.document_agent.document_utils import preprocess_path\n",
    "# from autogen.agents.experimental.document_agent.chroma_query_engine import VectorChromaQueryEngine\n",
    "# from autogen.agents.experimental.document_agent.inmemory_query_engine import InMemoryQueryEngine\n",
    "from autogen.agents.experimental.document_agent.parser_utils import docling_parse_docs\n",
    "from autogen.agentchat.contrib.swarm_agent import SwarmResult"
   ]
  },
  {
   "cell_type": "code",
   "execution_count": 2,
   "id": "4c37e7e6-0d8c-423a-9bb7-f8afc5d8ad17",
   "metadata": {},
   "outputs": [],
   "source": [
    "def get_api_key(key_name=\"OPENAI/Yiwen\"):\n",
    "    from api_key_store import ApiKeyStore\n",
    "    return ApiKeyStore().get_api_key(key_name)"
   ]
  },
  {
   "cell_type": "code",
   "execution_count": 3,
   "id": "a88dfd71-4ee3-43b8-baab-8fd366b5bc66",
   "metadata": {},
   "outputs": [],
   "source": [
    "os.environ[\"OPENAI_API_KEY\"] = get_api_key()"
   ]
  },
  {
   "cell_type": "code",
   "execution_count": 4,
   "id": "a5dd9a21-ad0a-45db-aacd-d1e3d4e3a007",
   "metadata": {},
   "outputs": [],
   "source": [
    "config_list = [\n",
    "    {\n",
    "        \"model\": \"gpt-4o\",\n",
    "        \"api_key\": get_api_key(),\n",
    "    },\n",
    "]\n",
    "llm_config = {\n",
    "    \"config_list\": config_list,\n",
    "}"
   ]
  },
  {
   "cell_type": "code",
   "execution_count": null,
   "id": "85a81012-079e-4616-934c-1dd01ecf237e",
   "metadata": {},
   "outputs": [],
   "source": []
  }
 ],
 "metadata": {
  "kernelspec": {
   "display_name": "Python 3 (ipykernel)",
   "language": "python",
   "name": "python3"
  },
  "language_info": {
   "codemirror_mode": {
    "name": "ipython",
    "version": 3
   },
   "file_extension": ".py",
   "mimetype": "text/x-python",
   "name": "python",
   "nbconvert_exporter": "python",
   "pygments_lexer": "ipython3",
   "version": "3.11.11"
  }
 },
 "nbformat": 4,
 "nbformat_minor": 5
}
