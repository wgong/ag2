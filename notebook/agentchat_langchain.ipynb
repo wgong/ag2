{
 "cells": [
  {
   "attachments": {},
   "cell_type": "markdown",
   "id": "9a71fa36",
   "metadata": {
    "id": "9a71fa36"
   },
   "source": [
    "# Auto Generated Agent Chat: Task Solving with Langchain Provided Tools as Functions\n",
    "\n",
    "AG2 offers conversable agents powered by LLM, tool, or human, which can be used to perform tasks collectively via automated chat. This framework allows tool use and human participants through multi-agent conversation. Please find documentation about this feature [here](https://docs.ag2.ai/docs/Use-Cases/agent_chat).\n",
    "\n",
    "In this notebook, we demonstrate how to use `AssistantAgent` and `UserProxyAgent` to make function calls with the new feature of OpenAI models (in model version 0613) with a set of Langchain-provided tools and toolkits, to demonstrate how to leverage the 35+ tools available. \n",
    "A specified prompt and function configs must be passed to `AssistantAgent` to initialize the agent. The corresponding functions must be passed to `UserProxyAgent`, which will execute any function calls made by `AssistantAgent`. Besides this requirement of matching descriptions with functions, we recommend checking the system message in the `AssistantAgent` to ensure the instructions align with the function call descriptions.\n",
    "\n",
    "## Requirements\n",
    "\n",
    "AG2 requires `Python>=3.9`. To run this notebook example, please install `pyautogen` and `Langchain`:\n",
    "```bash\n",
    "pip install pyautogen[openai] Langchain\n",
    "```"
   ]
  },
  {
   "cell_type": "code",
   "execution_count": null,
   "id": "2b803c17",
   "metadata": {
    "colab": {
     "base_uri": "https://localhost:8080/"
    },
    "id": "2b803c17",
    "outputId": "2e12aa3f-e46c-4b82-cc2e-1495f70a2961"
   },
   "outputs": [],
   "source": [
    "%pip install \"pyautogen>=0.2.3\" Langchain"
   ]
  },
  {
   "attachments": {},
   "cell_type": "markdown",
   "id": "5ebd2397",
   "metadata": {
    "id": "5ebd2397"
   },
   "source": [
    "## Set your API Endpoint\n",
    "\n",
    "The [`config_list_from_models`](https://docs.ag2.ai/docs/api-reference/autogen/config_list_from_models#config-list-from-models) function tries to create a list of configurations using Azure OpenAI endpoints and OpenAI endpoints for the provided list of models. It assumes the api keys and api bases are stored in the corresponding environment variables or local txt files:\n",
    "\n",
    "- OpenAI API key: os.environ[\"OPENAI_API_KEY\"] or `openai_api_key_file=\"key_openai.txt\"`.\n",
    "- Azure OpenAI API key: os.environ[\"AZURE_OPENAI_API_KEY\"] or `aoai_api_key_file=\"key_aoai.txt\"`. Multiple keys can be stored, one per line.\n",
    "- Azure OpenAI API base: os.environ[\"AZURE_OPENAI_API_BASE\"] or `aoai_api_base_file=\"base_aoai.txt\"`. Multiple bases can be stored, one per line.\n",
    "\n",
    "It's OK to have only the OpenAI API key, or only the Azure OpenAI API key + base.\n",
    "If you open this notebook in google colab, you can upload your files by clicking the file icon on the left panel and then choosing \"upload file\" icon.\n",
    "\n",
    "The following code excludes Azure OpenAI endpoints from the config list because some endpoints don't support functions yet. Remove the `exclude` argument if they do."
   ]
  },
  {
   "cell_type": "code",
   "execution_count": null,
   "id": "dca301a4",
   "metadata": {
    "id": "dca301a4"
   },
   "outputs": [],
   "source": [
    "import math\n",
    "import os\n",
    "from typing import Type\n",
    "\n",
    "# Starndard Langchain example\n",
    "from langchain.agents import create_spark_sql_agent\n",
    "from langchain.agents.agent_toolkits import SparkSQLToolkit\n",
    "from langchain.chat_models import ChatOpenAI\n",
    "\n",
    "# Import things that are needed generically\n",
    "from langchain.pydantic_v1 import BaseModel, Field\n",
    "from langchain.tools import BaseTool\n",
    "from langchain.tools.file_management.read import ReadFileTool\n",
    "from langchain.utilities.spark_sql import SparkSQL\n",
    "from pyspark.sql import SparkSession\n",
    "\n",
    "import autogen\n",
    "\n",
    "config_list = autogen.config_list_from_json(\n",
    "    \"OAI_CONFIG_LIST\",\n",
    "    filter_dict={\n",
    "        \"model\": [\"gpt-4\", \"gpt-3.5-turbo\", \"gpt-3.5-turbo-16k\"],\n",
    "    },\n",
    ")"
   ]
  },
  {
   "attachments": {},
   "cell_type": "markdown",
   "id": "dd1cda81",
   "metadata": {},
   "source": [
    "It first looks for environment variable \"OAI_CONFIG_LIST\" which needs to be a valid json string. If that variable is not found, it then looks for a json file named \"OAI_CONFIG_LIST\". It filters the configs by models (you can filter by other keys as well). Only the models with matching names are kept in the list based on the filter condition.\n",
    "\n",
    "The config list looks like the following:\n",
    "```python\n",
    "config_list = [\n",
    "    {\n",
    "        'model': 'gpt-4',\n",
    "        'api_key': '<your OpenAI API key here>',\n",
    "    },\n",
    "    {\n",
    "        'model': 'gpt-3.5-turbo',\n",
    "        'api_key': '<your Azure OpenAI API key here>',\n",
    "        'base_url': '<your Azure OpenAI API base here>',\n",
    "        'api_type': 'azure',\n",
    "        'api_version': '2024-02-15-preview',\n",
    "    },\n",
    "    {\n",
    "        'model': 'gpt-3.5-turbo-16k',\n",
    "        'api_key': '<your Azure OpenAI API key here>',\n",
    "        'base_url': '<your Azure OpenAI API base here>',\n",
    "        'api_type': 'azure',\n",
    "        'api_version': '2024-02-15-preview',\n",
    "    },\n",
    "]\n",
    "```\n",
    "\n",
    "You can set the value of config_list in any way you prefer. Please refer to this [User Guide](https://docs.ag2.ai/docs/user-guide/advanced-concepts/llm-configuration-deep-dive) for full code examples of the different methods."
   ]
  },
  {
   "attachments": {},
   "cell_type": "markdown",
   "id": "2b9526e7",
   "metadata": {
    "id": "2b9526e7"
   },
   "source": [
    "## Making Function Calls\n",
    "\n",
    "In this example, we demonstrate function call execution with `AssistantAgent` and `UserProxyAgent`. With the default system prompt of `AssistantAgent`, we allow the LLM assistant to perform tasks with code, and the `UserProxyAgent` would extract code blocks from the LLM response and execute them. With the new \"function_call\" feature, we define functions and specify the description of the function in the OpenAI config for the `AssistantAgent`. Then we register the functions in `UserProxyAgent`.\n"
   ]
  },
  {
   "cell_type": "code",
   "execution_count": null,
   "id": "qCzNbbVajvpc",
   "metadata": {
    "id": "qCzNbbVajvpc"
   },
   "outputs": [],
   "source": [
    "class CircumferenceToolInput(BaseModel):\n",
    "    radius: float = Field()\n",
    "\n",
    "\n",
    "class CircumferenceTool(BaseTool):\n",
    "    name = \"circumference_calculator\"\n",
    "    description = \"Use this tool when you need to calculate a circumference using the radius of a circle\"\n",
    "    args_schema: Type[BaseModel] = CircumferenceToolInput\n",
    "\n",
    "    def _run(self, radius: float):\n",
    "        return float(radius) * 2.0 * math.pi\n",
    "\n",
    "\n",
    "def get_file_path_of_example():\n",
    "    # Get the current working directory\n",
    "    current_dir = os.getcwd()\n",
    "\n",
    "    # Go one directory up\n",
    "    parent_dir = os.path.dirname(current_dir)\n",
    "\n",
    "    # Move to the target directory\n",
    "    target_folder = os.path.join(parent_dir, \"test\")\n",
    "\n",
    "    # Construct the path to your target file\n",
    "    file_path = os.path.join(target_folder, \"test_files/radius.txt\")\n",
    "\n",
    "    return file_path"
   ]
  },
  {
   "cell_type": "code",
   "execution_count": null,
   "id": "COlL5_98atDs",
   "metadata": {
    "colab": {
     "base_uri": "https://localhost:8080/"
    },
    "id": "COlL5_98atDs",
    "outputId": "24ce236d-8993-4a69-99e2-65453574d61e"
   },
   "outputs": [],
   "source": [
    "# Define a function to generate llm_config from a LangChain tool\n",
    "\n",
    "\n",
    "def generate_llm_config(tool):\n",
    "    # Define the function schema based on the tool's args_schema\n",
    "    function_schema = {\n",
    "        \"name\": tool.name.lower().replace(\" \", \"_\"),\n",
    "        \"description\": tool.description,\n",
    "        \"parameters\": {\n",
    "            \"type\": \"object\",\n",
    "            \"properties\": {},\n",
    "            \"required\": [],\n",
    "        },\n",
    "    }\n",
    "\n",
    "    if tool.args is not None:\n",
    "        function_schema[\"parameters\"][\"properties\"] = tool.args\n",
    "\n",
    "    return function_schema\n",
    "\n",
    "\n",
    "# Instantiate the ReadFileTool\n",
    "read_file_tool = ReadFileTool()\n",
    "custom_tool = CircumferenceTool()\n",
    "\n",
    "# Construct the llm_config\n",
    "llm_config = {\n",
    "    # Generate functions config for the Tool\n",
    "    \"functions\": [\n",
    "        generate_llm_config(custom_tool),\n",
    "        generate_llm_config(read_file_tool),\n",
    "    ],\n",
    "    \"config_list\": config_list,  # Assuming you have this defined elsewhere\n",
    "    \"timeout\": 120,\n",
    "}\n",
    "\n",
    "user_proxy = autogen.UserProxyAgent(\n",
    "    name=\"user_proxy\",\n",
    "    is_termination_msg=lambda x: x.get(\"content\", \"\") and x.get(\"content\", \"\").rstrip().endswith(\"TERMINATE\"),\n",
    "    human_input_mode=\"NEVER\",\n",
    "    max_consecutive_auto_reply=10,\n",
    "    code_execution_config={\n",
    "        \"work_dir\": \"coding\",\n",
    "        \"use_docker\": False,\n",
    "    },  # Please set use_docker=True if docker is available to run the generated code. Using docker is safer than running the generated code directly.\n",
    ")\n",
    "\n",
    "# Register the tool and start the conversation\n",
    "user_proxy.register_function(\n",
    "    function_map={\n",
    "        custom_tool.name: custom_tool._run,\n",
    "        read_file_tool.name: read_file_tool._run,\n",
    "    }\n",
    ")\n",
    "\n",
    "chatbot = autogen.AssistantAgent(\n",
    "    name=\"chatbot\",\n",
    "    system_message=\"For coding tasks, only use the functions you have been provided with. Reply TERMINATE when the task is done.\",\n",
    "    llm_config=llm_config,\n",
    ")\n",
    "\n",
    "user_proxy.initiate_chat(\n",
    "    chatbot,\n",
    "    message=f\"Read the file with the path {get_file_path_of_example()}, then calculate the circumference of a circle that has a radius of that files contents.\",  # 7.81mm in the file\n",
    "    llm_config=llm_config,\n",
    ")"
   ]
  },
  {
   "attachments": {},
   "cell_type": "markdown",
   "id": "11cc4e60",
   "metadata": {},
   "source": [
    "# A PySpark Example"
   ]
  },
  {
   "cell_type": "code",
   "execution_count": null,
   "id": "Y-ozf9EFCegw",
   "metadata": {
    "colab": {
     "base_uri": "https://localhost:8080/"
    },
    "id": "Y-ozf9EFCegw",
    "outputId": "db7b73a8-6129-4dfb-9d5c-ac3536f310d7"
   },
   "outputs": [],
   "source": [
    "%pip install pyspark"
   ]
  },
  {
   "cell_type": "code",
   "execution_count": null,
   "id": "7iFp-Sm4CYq_",
   "metadata": {
    "colab": {
     "base_uri": "https://localhost:8080/"
    },
    "id": "7iFp-Sm4CYq_",
    "outputId": "2e1a2a70-53e6-4896-9232-63db6d097d63"
   },
   "outputs": [],
   "source": [
    "spark = SparkSession.builder.getOrCreate()\n",
    "schema = \"langchain_example\"\n",
    "spark.sql(f\"CREATE DATABASE IF NOT EXISTS {schema}\")\n",
    "spark.sql(f\"USE {schema}\")\n",
    "csv_file_path = \"./sample_data/california_housing_train.csv\"\n",
    "table = \"california_housing_train\"\n",
    "spark.read.csv(csv_file_path, header=True, inferSchema=True).write.option(\n",
    "    \"path\", \"file:/content/spark-warehouse/langchain_example.db/california_housing_train\"\n",
    ").mode(\"overwrite\").saveAsTable(table)\n",
    "spark.table(table).show()"
   ]
  },
  {
   "cell_type": "code",
   "execution_count": null,
   "id": "iLtSTHoJD7Jn",
   "metadata": {
    "id": "iLtSTHoJD7Jn"
   },
   "outputs": [],
   "source": [
    "# Note, you can also connect to Spark via Spark connect. For example:\n",
    "# db = SparkSQL.from_uri(\"sc://localhost:15002\", schema=schema)\n",
    "spark_sql = SparkSQL(schema=schema)\n",
    "llm = ChatOpenAI(temperature=0, model=\"gpt-3.5-turbo-16k\")\n",
    "toolkit = SparkSQLToolkit(db=spark_sql, llm=llm)\n",
    "agent_executor = create_spark_sql_agent(llm=llm, toolkit=toolkit, verbose=True)"
   ]
  },
  {
   "cell_type": "code",
   "execution_count": null,
   "id": "VzqNYlVjCqQa",
   "metadata": {
    "colab": {
     "base_uri": "https://localhost:8080/",
     "height": 608
    },
    "id": "VzqNYlVjCqQa",
    "outputId": "dd4de772-7b0c-4650-d106-c83d4593158e"
   },
   "outputs": [],
   "source": [
    "# Starndard Langchain example\n",
    "agent_executor.run(\"Describe the california_housing_train table\")"
   ]
  },
  {
   "cell_type": "code",
   "execution_count": null,
   "id": "d94d45a9",
   "metadata": {},
   "outputs": [],
   "source": [
    "# LangChain direct tool usage instead of toolkit example\n",
    "# from langchain.tools.spark_sql.tool import (\n",
    "#     InfoSparkSQLTool,\n",
    "#     ListSparkSQLTool,\n",
    "#     QueryCheckerTool,\n",
    "#     QuerySparkSQLTool,\n",
    "# )\n",
    "# debug_toolkit = [\n",
    "#   QuerySparkSQLTool(db=spark_sql),\n",
    "#   InfoSparkSQLTool(db=spark_sql),\n",
    "#   ListSparkSQLTool(db=spark_sql),\n",
    "#   QueryCheckerTool(db=spark_sql, llm=llm),\n",
    "# ]"
   ]
  },
  {
   "cell_type": "code",
   "execution_count": null,
   "id": "r7PFvDS7Ev-E",
   "metadata": {
    "colab": {
     "base_uri": "https://localhost:8080/"
    },
    "id": "r7PFvDS7Ev-E",
    "outputId": "53d9c45d-058e-4e37-ba73-556591aaab42"
   },
   "outputs": [],
   "source": [
    "# Now use AG2 with Langchain Tool Bridgre\n",
    "tools = []\n",
    "function_map = {}\n",
    "\n",
    "for tool in toolkit.get_tools():  # debug_toolkit if you want to use tools directly\n",
    "    tool_schema = generate_llm_config(tool)\n",
    "    print(tool_schema)\n",
    "    tools.append(tool_schema)\n",
    "    function_map[tool.name] = tool._run\n",
    "\n",
    "# Construct the llm_config\n",
    "llm_config = {\n",
    "    \"functions\": tools,\n",
    "    \"config_list\": config_list,  # Assuming you have this defined elsewhere\n",
    "    \"timeout\": 120,\n",
    "}\n",
    "\n",
    "user_proxy = autogen.UserProxyAgent(\n",
    "    name=\"user_proxy\",\n",
    "    is_termination_msg=lambda x: x.get(\"content\", \"\") and x.get(\"content\", \"\").rstrip().endswith(\"TERMINATE\"),\n",
    "    human_input_mode=\"NEVER\",\n",
    "    max_consecutive_auto_reply=10,\n",
    "    code_execution_config={\n",
    "        \"work_dir\": \"coding\",\n",
    "        \"use_docker\": False,\n",
    "    },  # Please set use_docker=True if docker is available to run the generated code. Using docker is safer than running the generated code directly.\n",
    ")\n",
    "\n",
    "print(function_map)\n",
    "\n",
    "# Register the tool and start the conversation\n",
    "user_proxy.register_function(function_map=function_map)\n",
    "\n",
    "chatbot = autogen.AssistantAgent(\n",
    "    name=\"chatbot\",\n",
    "    system_message=\"For coding tasks, only use the functions you have been provided with. Reply TERMINATE when the task is done.\",\n",
    "    llm_config=llm_config,\n",
    ")\n",
    "\n",
    "user_proxy.initiate_chat(\n",
    "    chatbot,\n",
    "    message=\"Describe the table names california_housing_train\",\n",
    "    llm_config=llm_config,\n",
    ")"
   ]
  }
 ],
 "metadata": {
  "colab": {
   "provenance": []
  },
  "front_matter": {
   "description": "Use Langchain tools.",
   "tags": [
    "langchain",
    "integration",
    "tool/function"
   ]
  },
  "kernelspec": {
   "display_name": "flaml_dev",
   "language": "python",
   "name": "python3"
  },
  "language_info": {
   "codemirror_mode": {
    "name": "ipython",
    "version": 3
   },
   "file_extension": ".py",
   "mimetype": "text/x-python",
   "name": "python",
   "nbconvert_exporter": "python",
   "pygments_lexer": "ipython3",
   "version": "3.9.17"
  }
 },
 "nbformat": 4,
 "nbformat_minor": 5
}
