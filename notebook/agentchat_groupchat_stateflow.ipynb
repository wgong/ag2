{
 "cells": [
  {
   "attachments": {},
   "cell_type": "markdown",
   "metadata": {},
   "source": [
    "# StateFlow: Build Workflows through State-Oriented Actions\n",
    "\n",
    "AG2 offers conversable agents powered by LLM, tool or human, which can be used to perform tasks collectively via automated chat. In this notebook, we introduce how to use groupchat to build workflows with AG2 agents from a state-oriented perspective.\n",
    "\n",
    "\n",
    "````{=mdx}\n",
    ":::info Requirements\n",
    "Install `pyautogen`:\n",
    "```bash\n",
    "pip install pyautogen[openai]\n",
    "```\n",
    "\n",
    "For more information, please refer to the [installation guide](/docs/user-guide/basic-concepts/installing-ag2).\n",
    ":::\n",
    "````"
   ]
  },
  {
   "attachments": {},
   "cell_type": "markdown",
   "metadata": {},
   "source": [
    "## Set your API Endpoint\n",
    "\n",
    "The [`config_list_from_json`](https://docs.ag2.ai/docs/api-reference/autogen/config_list_from_json#config-list-from-json) function loads a list of configurations from an environment variable or a json file."
   ]
  },
  {
   "cell_type": "code",
   "execution_count": null,
   "metadata": {},
   "outputs": [],
   "source": [
    "import autogen\n",
    "\n",
    "config_list = autogen.config_list_from_json(\n",
    "    \"OAI_CONFIG_LIST\",\n",
    "    filter_dict={\n",
    "        \"tags\": [\"gpt-4\", \"gpt-4-32k\"],\n",
    "    },\n",
    ")"
   ]
  },
  {
   "attachments": {},
   "cell_type": "markdown",
   "metadata": {},
   "source": [
    "````{=mdx}\n",
    ":::tip\n",
    "Learn more about configuring LLMs for agents [here](/docs/topics/llm_configuration).\n",
    ":::\n",
    "````\n",
    "\n",
    "## A workflow for research\n",
    "\n",
    "<figure>\n",
    "    <img src=\"https://media.githubusercontent.com/media/ag2ai/ag2/main/website/blog/2024-02-29-StateFlow/img/sf_example_1.png\"  width=\"700\"\n",
    "         alt=\"SF_Example_1\">\n",
    "    </img>\n",
    "</figure>\n",
    "\n",
    "We define the following agents:\n",
    "- Initializer: Start the workflow by sending a task.\n",
    "- Coder: Retrieve papers from the internet by writing code.\n",
    "- Executor: Execute the code.\n",
    "- Scientist: Read the papers and write a summary.\n",
    "\n",
    "\n",
    "In the Figure, we define a simple workflow for research with 4 states: Init, Retrieve, Research and End. Within each state, we will call different agents to perform the tasks.\n",
    "- Init: We use the initializer to start the workflow.\n",
    "- Retrieve: We will first call the coder to write code and then call the executor to execute the code.\n",
    "- Research: We will call the scientist to read the papers and write a summary.\n",
    "- End: We will end the workflow.\n",
    "\n",
    "Through customizing the speaker selection method, we can easily realize the state-oriented workflow by defining the transitions between different agents."
   ]
  },
  {
   "cell_type": "code",
   "execution_count": null,
   "metadata": {},
   "outputs": [],
   "source": [
    "import tempfile\n",
    "\n",
    "from autogen.coding import LocalCommandLineCodeExecutor\n",
    "\n",
    "temp_dir = tempfile.TemporaryDirectory()\n",
    "executor = LocalCommandLineCodeExecutor(\n",
    "    timeout=10,  # Timeout for each code execution in seconds.\n",
    "    work_dir=temp_dir.name,  # Use the temporary directory to store the code files.\n",
    ")\n",
    "\n",
    "gpt4_config = {\n",
    "    \"cache_seed\": False,  # change the cache_seed for different trials\n",
    "    \"temperature\": 0,\n",
    "    \"config_list\": config_list,\n",
    "    \"timeout\": 120,\n",
    "}\n",
    "\n",
    "initializer = autogen.UserProxyAgent(\n",
    "    name=\"Init\",\n",
    "    code_execution_config=False,\n",
    ")\n",
    "\n",
    "\n",
    "coder = autogen.AssistantAgent(\n",
    "    name=\"Retrieve_Action_1\",\n",
    "    llm_config=gpt4_config,\n",
    "    system_message=\"\"\"You are the Coder. Given a topic, write code to retrieve related papers from the arXiv API, print their title, authors, abstract, and link.\n",
    "You write python/shell code to solve tasks. Wrap the code in a code block that specifies the script type. The user can't modify your code. So do not suggest incomplete code which requires others to modify. Don't use a code block if it's not intended to be executed by the executor.\n",
    "Don't include multiple code blocks in one response. Do not ask others to copy and paste the result. Check the execution result returned by the executor.\n",
    "If the result indicates there is an error, fix the error and output the code again. Suggest the full code instead of partial code or code changes. If the error can't be fixed or if the task is not solved even after the code is executed successfully, analyze the problem, revisit your assumption, collect additional info you need, and think of a different approach to try.\n",
    "\"\"\",\n",
    ")\n",
    "executor = autogen.UserProxyAgent(\n",
    "    name=\"Retrieve_Action_2\",\n",
    "    system_message=\"Executor. Execute the code written by the Coder and report the result.\",\n",
    "    human_input_mode=\"NEVER\",\n",
    "    code_execution_config={\"executor\": executor},\n",
    ")\n",
    "scientist = autogen.AssistantAgent(\n",
    "    name=\"Research_Action_1\",\n",
    "    llm_config=gpt4_config,\n",
    "    system_message=\"\"\"You are the Scientist. Please categorize papers after seeing their abstracts printed and create a markdown table with Domain, Title, Authors, Summary and Link\"\"\",\n",
    ")\n",
    "\n",
    "\n",
    "def state_transition(last_speaker, groupchat):\n",
    "    messages = groupchat.messages\n",
    "\n",
    "    if last_speaker is initializer:\n",
    "        # init -> retrieve\n",
    "        return coder\n",
    "    elif last_speaker is coder:\n",
    "        # retrieve: action 1 -> action 2\n",
    "        return executor\n",
    "    elif last_speaker is executor:\n",
    "        if messages[-1][\"content\"] == \"exitcode: 1\":\n",
    "            # retrieve --(execution failed)--> retrieve\n",
    "            return coder\n",
    "        else:\n",
    "            # retrieve --(execution success)--> research\n",
    "            return scientist\n",
    "    elif last_speaker == \"Scientist\":\n",
    "        # research -> end\n",
    "        return None\n",
    "\n",
    "\n",
    "groupchat = autogen.GroupChat(\n",
    "    agents=[initializer, coder, executor, scientist],\n",
    "    messages=[],\n",
    "    max_round=20,\n",
    "    speaker_selection_method=state_transition,\n",
    ")\n",
    "manager = autogen.GroupChatManager(groupchat=groupchat, llm_config=gpt4_config)"
   ]
  },
  {
   "cell_type": "code",
   "execution_count": null,
   "metadata": {},
   "outputs": [],
   "source": [
    "chat_result = initializer.initiate_chat(\n",
    "    manager, message=\"Topic: LLM applications papers from last week. Requirement: 5 - 10 papers from different domains.\"\n",
    ")"
   ]
  }
 ],
 "metadata": {
  "front_matter": {
   "description": "StateFlow: Build workflows through state-oriented actions.",
   "tags": [
    "orchestration",
    "group chat",
    "stateflow",
    "research"
   ]
  },
  "kernelspec": {
   "display_name": "flaml",
   "language": "python",
   "name": "python3"
  },
  "language_info": {
   "codemirror_mode": {
    "name": "ipython",
    "version": 3
   },
   "file_extension": ".py",
   "mimetype": "text/x-python",
   "name": "python",
   "nbconvert_exporter": "python",
   "pygments_lexer": "ipython3",
   "version": "3.9.18"
  }
 },
 "nbformat": 4,
 "nbformat_minor": 2
}
